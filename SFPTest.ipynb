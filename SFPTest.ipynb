{
 "cells": [
  {
   "cell_type": "markdown",
   "metadata": {},
   "source": [
    "### Stochastic Fokker-Planck integration of spiking neural network\n",
    "##### Gianni V. Vinci"
   ]
  },
  {
   "cell_type": "code",
   "execution_count": 1,
   "metadata": {},
   "outputs": [],
   "source": [
    "import SFP\n",
    "import numpy as np\n",
    "import matplotlib.pyplot as plt\n",
    "import time\n",
    "from scipy.signal import welch\n",
    "\n"
   ]
  },
  {
   "cell_type": "code",
   "execution_count": 22,
   "metadata": {},
   "outputs": [],
   "source": [
    "# Parameters of the integration\n",
    "dt=0.01/1000                             #[s]  Integration time step\n",
    "T=60                                     #[s]  Simulation life time  \n",
    "N_V=1000                                 #     Numbert of grid point in potential discretization\n",
    "\n",
    "\n",
    "Vt,Vr,Vmin=20.,0.,-3*20.                 #[mV] Trheshold,Reset and minimum potential   \n",
    "TauV=0.02                                #[s]  Membrane time constant\n",
    "TauD=0.001                               #[s]  Characteristic time of exponential delay distribution\n",
    "delta=0.002                              #[s]  Constant axonal delay\n",
    "tref=0                                   #[s]  Absolute refracory time\n",
    "\n",
    "Mu0,Sig0=21,2.6652                       #[mV] Mean and variace of synaptic current multiplied by TauV and sqrt(TauV)\n",
    "R0=20                                    #[Hz] Stationary firing rate\n",
    "N=10000                                  #     Number of neurons, Possible choices at the moment N:1000,10000,100000\n",
    "K=1000                                   #     Mean synaptic contacts per neuron     \n",
    "J=10/K                                   #[mV] Strenght of synaptic coupling \n",
    "\n",
    "\n",
    "\n",
    "# Initialize routine for finite size noise given the number of neuron \n",
    "IntegrateEta=SFP.InitializeEta(N)\n",
    "\n",
    "#Store parameters in dictionary\n",
    "Net={'dt':dt,'Vt':Vt,'Vr':Vr,'Vmin':Vmin,'N_V':N_V,'K':K,'J':J,\n",
    "     'Mu0':Mu0,'R0':R0,'Sig0':Sig0,'TauV':TauV,'IExt':0.0,'delta':delta,'tref':tref,\n",
    "     'Life':T,'N':N,'TauD':TauD,'delay_type':3,'gC':0.0,'AlphaC':0.0,\"TauC\":1.0}\n",
    "\n",
    "#Readjust the external current to have the stationary firing rate at R0\n",
    "Net['MuExt'],Net['SigExt']=SFP.ExternalCurrent(Net)\n",
    "\n",
    "#Initialize the grid for the Fokker-Planck\n",
    "grid =SFP.Grid(V_0=Net['Vmin'], V_1=Net['Vt'], V_r=Net['Vr'],N_V=Net['N_V'])\n",
    "\n",
    "\n",
    "\n"
   ]
  },
  {
   "cell_type": "code",
   "execution_count": 23,
   "metadata": {},
   "outputs": [],
   "source": [
    "def Simulate(Net):\n",
    "\n",
    "    T,dt=Net[\"Life\"],Net[\"dt\"]\n",
    "    tref,delta=Net[\"tref\"],Net[\"delta\"]\n",
    "    TauV,TauD=Net[\"TauV\"], Net[\"TauD\"]\n",
    "    \n",
    "    Steps=int(T/dt)\n",
    "    rN=np.zeros(Steps)\n",
    "    r=np.zeros_like(rN)\n",
    "    t=np.linspace(0,T,Steps)\n",
    "    nd=int(delta/dt)\n",
    "    n_ref=int(tref/dt)\n",
    "\n",
    "    #Initialize probability distribution\n",
    "    Net['fp_v_init']='delta'\n",
    "    p=SFP.initial_p_distribution(grid,Net)\n",
    "    r_d=rN[nd]\n",
    "    Eta,u1,u2=0,0,0\n",
    "    ts=time.time()\n",
    "    for n in range(nd+n_ref,Steps-1):\n",
    "        #Update the mean and variance of the synaptic current\n",
    "        mu_tot=K*J*r_d +Net['MuExt']\n",
    "        sigma_tot=np.sqrt(K * J ** 2 * r_d + Net['SigExt'] ** 2)\n",
    "        int_ref = np.sum(r[n-n_ref:n]*dt) \n",
    "\n",
    "        # Generate finite-soze noise via Markovian embedding\n",
    "        Z=np.random.randn() \n",
    "        Eta,u1,u2=IntegrateEta(dt,Z,Eta,u1,u2,r[n],N,mu_tot*TauV,sigma_tot*TauV)\n",
    "        InPut={'r_d':r_d,'rND':rN[n-nd],'p':p,'mu_tot':mu_tot,'sigma_tot':sigma_tot,'TauD':TauD,\n",
    "               'Eta':Eta,'dt':dt,'TauV':TauV,'int_ref':int_ref,'rNref':rN[n-n_ref]}\n",
    "\n",
    "        #Integrate the F.P equation for one step\n",
    "        r_d,rN[n+1],r[n+1],p=SFP.IntegrateFP(InPut,grid)\n",
    "    te=time.time()\n",
    "    print('Integration done in  %3d s'%(te-ts))\n",
    "    return t,rN\n"
   ]
  },
  {
   "cell_type": "code",
   "execution_count": 24,
   "metadata": {},
   "outputs": [
    {
     "name": "stdout",
     "output_type": "stream",
     "text": [
      "Integration done in  852 s\n"
     ]
    }
   ],
   "source": [
    "t,rN=Simulate(Net)"
   ]
  },
  {
   "cell_type": "code",
   "execution_count": 36,
   "metadata": {},
   "outputs": [
    {
     "data": {
      "image/png": "[encoded data removed]",
      "text/plain": [
       "<Figure size 432x288 with 1 Axes>"
      ]
     },
     "metadata": {
      "needs_background": "light"
     },
     "output_type": "display_data"
    }
   ],
   "source": [
    "fs=1/Net[\"dt\"]\n",
    "Ind=np.abs(t-1).argmin()\n",
    "nFreq=90000\n",
    "f, Pxx_den = welch(rN[Ind:], fs, nperseg=nFreq,return_onesided=True)\n",
    "F=np.logspace(0,3,1000)\n",
    "S=np.interp(F,f,Pxx_den/2)\n",
    "plt.loglog(F,S,\"-k\")\n",
    "plt.xlabel(\"f [Hz]\")\n",
    "plt.ylabel(r\"$S_{\\nu N}$\")\n",
    "plt.xlim(2,1000);"
   ]
  }
 ],
 "metadata": {
  "kernelspec": {
   "display_name": "Python 3",
   "language": "python",
   "name": "python3"
  },
  "language_info": {
   "codemirror_mode": {
    "name": "ipython",
    "version": 3
   },
   "file_extension": ".py",
   "mimetype": "text/x-python",
   "name": "python",
   "nbconvert_exporter": "python",
   "pygments_lexer": "ipython3",
   "version": "3.8.5"
  }
 },
 "nbformat": 4,
 "nbformat_minor": 4
}
